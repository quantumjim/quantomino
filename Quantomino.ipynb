{
 "cells": [
  {
   "cell_type": "markdown",
   "metadata": {},
   "source": [
    "# Quantomino"
   ]
  },
  {
   "cell_type": "markdown",
   "metadata": {},
   "source": [
    "This is a Jupyter notebook, in which you will run some puzzles and learn about quantum computing. Don't worry if you've never used a Jupyter notebook before. It just means you'll see lots of grey boxes with code in, like the one below. These are known as cells."
   ]
  },
  {
   "cell_type": "code",
   "execution_count": null,
   "metadata": {},
   "outputs": [],
   "source": [
    "print(\"Hello! I'm a code cell\")"
   ]
  },
  {
   "cell_type": "markdown",
   "metadata": {},
   "source": [
    "You'll need to run the cells to use this tutorial. To run a cell, do the following.\n",
    "\n",
    "* For laptops and desktops, click on the cell and press Shift-Enter.\n",
    "\n",
    "* For mobile devices, tap on the icon that appears to the left of a cell.\n",
    "\n",
    "Get started by doing this for the cell below (it will take a second or two to run)."
   ]
  },
  {
   "cell_type": "code",
   "execution_count": null,
   "metadata": {},
   "outputs": [],
   "source": [
    "%matplotlib notebook\n",
    "\n",
    "from engine import run_game, GameObject"
   ]
  },
  {
   "cell_type": "markdown",
   "metadata": {},
   "source": [
    "Now do the same on the cell below to run the puzzle game.\n",
    "\n",
    "In this game, you are in charge of building a quantum programs. You are given commands to add to this program, and can choose where to slot them in.\n",
    "\n",
    "Your aim is to make a program that does nothing, so you want to make the commands cancel each other out. The simplest way is just to put two commands of the same type next to each other. When you do this in a way that reduces the total length of the program, you get a point. Get 5 points to win.\n",
    "\n",
    "But be careful: If the total length of the program gets too long, you lose.\n",
    "\n",
    "If you want to restart, just run the cell again."
   ]
  },
  {
   "cell_type": "code",
   "execution_count": null,
   "metadata": {
    "scrolled": false
   },
   "outputs": [],
   "source": [
    "game = GameObject()\n",
    "run_game(game)"
   ]
  },
  {
   "cell_type": "markdown",
   "metadata": {},
   "source": [
    "This game uses [Qiskit](https://qiskit.org/), the open-source framework for quantum computation.\n",
    "\n",
    "It is implemented using [this](https://github.com/quantumjim/jupyter-engine) basic example of how to make a game using Jupyter widgets.\n",
    "\n",
    "It was created for the [8 bits to infinity Puzzle Jam](https://itch.io/jam/puzzlejam). The theme of 'Black & White' got forgotten somewhere along the way. But the game is black and white, so hopefully that counts for something."
   ]
  },
  {
   "cell_type": "code",
   "execution_count": null,
   "metadata": {},
   "outputs": [],
   "source": []
  }
 ],
 "metadata": {
  "kernelspec": {
   "display_name": "Python 3",
   "language": "python",
   "name": "python3"
  },
  "language_info": {
   "codemirror_mode": {
    "name": "ipython",
    "version": 3
   },
   "file_extension": ".py",
   "mimetype": "text/x-python",
   "name": "python",
   "nbconvert_exporter": "python",
   "pygments_lexer": "ipython3",
   "version": "3.7.0"
  }
 },
 "nbformat": 4,
 "nbformat_minor": 2
}
